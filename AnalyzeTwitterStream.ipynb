{
 "cells": [
  {
   "cell_type": "markdown",
   "metadata": {},
   "source": [
    "# Imports"
   ]
  },
  {
   "cell_type": "code",
   "execution_count": null,
   "metadata": {},
   "outputs": [],
   "source": [
    "import pandas as pd\n",
    "import re\n",
    "from sklearn.feature_extraction.text import CountVectorizer\n",
    "import sklearn.decomposition as dec\n",
    "import scipy as sp\n",
    "import numpy as np"
   ]
  },
  {
   "cell_type": "markdown",
   "metadata": {},
   "source": [
    "# Retrieve and Process Tweets"
   ]
  },
  {
   "cell_type": "code",
   "execution_count": 4,
   "metadata": {},
   "outputs": [],
   "source": [
    "tweets = pd.read_csv('data/aapl-twitter-stream.csv').to_dict('series')"
   ]
  },
  {
   "cell_type": "code",
   "execution_count": 18,
   "metadata": {},
   "outputs": [],
   "source": [
    "def clean_tweet(tweet):\n",
    "    return ' '.join(re.sub(\"(@[A-Za-z0-9]+)|([^0-9A-Za-z \\t]) |(\\w+:\\/\\/\\S+)\", \" \", tweet).split())"
   ]
  },
  {
   "cell_type": "code",
   "execution_count": 20,
   "metadata": {},
   "outputs": [],
   "source": [
    "clean_tweets = []\n",
    "for tweet in tweets['Tweet content']:\n",
    "    clean_tweets.append(clean_tweet(tweet))"
   ]
  },
  {
   "cell_type": "code",
   "execution_count": 21,
   "metadata": {},
   "outputs": [
    {
     "name": "stdout",
     "output_type": "stream",
     "text": [
      "#APPLE TRIES to Limit #Google Incursions Onto Its Devices $AAPL $GOOG\n"
     ]
    }
   ],
   "source": [
    "print(clean_tweets[1])"
   ]
  },
  {
   "cell_type": "markdown",
   "metadata": {},
   "source": [
    "# Topic Analysis"
   ]
  },
  {
   "cell_type": "code",
   "execution_count": 26,
   "metadata": {},
   "outputs": [
    {
     "name": "stdout",
     "output_type": "stream",
     "text": [
      "aapl rt apple read fb spy teams iphone goog stocks amzn amp tsla buy twtr msft billion stock qqq new https cash nflx earnings googl market 233 trading spx trade uso watch today 80 china 000 futures bi ht 500 review pennystocks join 2016 news turn like time just com\n"
     ]
    }
   ],
   "source": [
    "count = CountVectorizer(stop_words='english', max_df=0.98, min_df=0.01)\n",
    "df_bag = count.fit_transform(clean_tweets)\n",
    "feature_names = count.get_feature_names()\n",
    "feature_wts = sp.sparse.csr_matrix.sum(df_bag, axis=0)\n",
    "feature_wts = np.array(feature_wts).flatten()\n",
    "n_top_words = 50 \n",
    "print(\" \".join([feature_names[i] for i in feature_wts.argsort()[:-n_top_words - 1:-1]]))\n"
   ]
  },
  {
   "cell_type": "markdown",
   "metadata": {},
   "source": [
    "# LDA"
   ]
  },
  {
   "cell_type": "code",
   "execution_count": 27,
   "metadata": {},
   "outputs": [
    {
     "name": "stdout",
     "output_type": "stream",
     "text": [
      "Topic 0: aapl rt market today 000 ht 500 pennystocks join turn just com teambillionaire pennystockhotline 10 tech sell twtr growth 00\n",
      "Topic 1: aapl apple rt read teams iphone buy billion cash 233 watch earnings 80 bi new https china review trade sales\n",
      "Topic 2: aapl rt fb spy goog stocks amzn tsla msft amp qqq twtr nflx googl trading spx stock news dia investing\n"
     ]
    }
   ],
   "source": [
    "lda = dec.LatentDirichletAllocation(n_components=3)\n",
    "lda.fit(df_bag)\n",
    "n_top_words = 20\n",
    "for topic_idx, topic in enumerate(lda.components_):\n",
    "        print(\"Topic %d: \" % topic_idx, end='')\n",
    "        print(\" \".join([feature_names[i] for i in topic.argsort()[:-n_top_words - 1:-1]]))"
   ]
  },
  {
   "cell_type": "code",
   "execution_count": 28,
   "metadata": {},
   "outputs": [
    {
     "name": "stdout",
     "output_type": "stream",
     "text": [
      "Topic 0: aapl rt fb spy goog amzn tsla twtr msft qqq nflx stocks googl spx 000 ht 500 pennystocks amp join\n",
      "Topic 1: aapl teams rt buy billion apple stock cash 233 market 80 stocks bi review 2016 just investing trading dis trade\n",
      "Topic 2: aapl apple rt read iphone amp earnings watch china today futures https new like time oil sales 10 sqqq tech\n"
     ]
    }
   ],
   "source": [
    "count = CountVectorizer(stop_words='english', max_df=0.98, min_df=0.01)\n",
    "df_bag = count.fit_transform(clean_tweets)\n",
    "feature_names = count.get_feature_names()\n",
    "lda = dec.LatentDirichletAllocation(n_components=3)\n",
    "lda.fit(df_bag)\n",
    "n_top_words = 20\n",
    "for topic_idx, topic in enumerate(lda.components_):\n",
    "        print(\"Topic %d: \" % topic_idx, end='')\n",
    "        print(\" \".join([feature_names[i] for i in topic.argsort()[:-n_top_words - 1:-1]]))"
   ]
  },
  {
   "cell_type": "code",
   "execution_count": 29,
   "metadata": {},
   "outputs": [
    {
     "name": "stdout",
     "output_type": "stream",
     "text": [
      "aapl rt apple read fb spy teams iphone goog stocks amzn amp tsla buy twtr msft billion stock qqq new https cash nflx earnings googl market 233 trading spx trade uso watch today 80 china 000 futures bi ht 500 review pennystocks join 2016 news turn like time just com\n"
     ]
    }
   ],
   "source": [
    "feature_wts = sp.sparse.csr_matrix.sum(df_bag, axis=0)\n",
    "feature_wts = np.array(feature_wts).flatten()\n",
    "n_top_words = 50 \n",
    "print(\" \".join([feature_names[i] for i in feature_wts.argsort()[:-n_top_words - 1:-1]]))"
   ]
  }
 ],
 "metadata": {
  "kernelspec": {
   "display_name": "Python 3",
   "language": "python",
   "name": "python3"
  },
  "language_info": {
   "codemirror_mode": {
    "name": "ipython",
    "version": 3
   },
   "file_extension": ".py",
   "mimetype": "text/x-python",
   "name": "python",
   "nbconvert_exporter": "python",
   "pygments_lexer": "ipython3",
   "version": "3.6.8"
  }
 },
 "nbformat": 4,
 "nbformat_minor": 2
}
