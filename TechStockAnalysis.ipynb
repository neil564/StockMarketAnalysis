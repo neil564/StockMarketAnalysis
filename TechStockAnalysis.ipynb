{
 "cells": [
  {
   "cell_type": "markdown",
   "metadata": {},
   "source": [
    "# Common Functions"
   ]
  },
  {
   "cell_type": "code",
   "execution_count": 66,
   "metadata": {},
   "outputs": [],
   "source": [
    "import twitter\n",
    "\n",
    "def oauth_login():\n",
    "    # XXX: Go to  to create an app and get values\n",
    "    # for these credentials that you'll need to provide in place of these\n",
    "    # empty string values that are defined as placeholders.\n",
    "    # See https://developer.twitter.com/en/docs/basics/authentication/overview/oauth\n",
    "    # for more information on Twitter's OAuth implementation.\n",
    "    \n",
    "    CONSUMER_KEY = ''\n",
    "    CONSUMER_SECRET = ''\n",
    "    OAUTH_TOKEN = ''\n",
    "    OAUTH_TOKEN_SECRET = ''\n",
    "    \n",
    "    auth = twitter.oauth.OAuth(OAUTH_TOKEN, OAUTH_TOKEN_SECRET,\n",
    "                               CONSUMER_KEY, CONSUMER_SECRET)\n",
    "    \n",
    "    twitter_api = twitter.Twitter(auth=auth)\n",
    "    return twitter_api"
   ]
  },
  {
   "cell_type": "code",
   "execution_count": 58,
   "metadata": {},
   "outputs": [],
   "source": [
    "import re\n",
    "def clean_tweet(tweet):\n",
    "    return ' '.join(re.sub(\"(@[A-Za-z0-9]+)|([^0-9A-Za-z \\t])|(\\w+:\\/\\/\\S+)\", \" \", tweet).split())"
   ]
  },
  {
   "cell_type": "code",
   "execution_count": 57,
   "metadata": {},
   "outputs": [],
   "source": [
    "from textblob import TextBlob\n",
    "def get_tweet_sentiment(tweet):\n",
    "    analysis = TextBlob(clean_tweet(tweet))\n",
    "    if analysis.sentiment.polarity > 0:\n",
    "        return 'positive'\n",
    "    elif analysis.sentiment.polarity == 0:\n",
    "        return 'neutral'\n",
    "    else:\n",
    "        return 'negative'"
   ]
  },
  {
   "cell_type": "code",
   "execution_count": 46,
   "metadata": {},
   "outputs": [],
   "source": [
    "def twitter_search(twitter_api, q, max_results=200, **kw):\n",
    "\n",
    "    # See https://developer.twitter.com/en/docs/tweets/search/api-reference/get-search-tweets\n",
    "    # and https://developer.twitter.com/en/docs/tweets/search/guides/standard-operators\n",
    "    # for details on advanced search criteria that may be useful for \n",
    "    # keyword arguments\n",
    "    \n",
    "    \n",
    "    search_results = twitter_api.search.tweets(q=q, count=100, **kw)\n",
    "    \n",
    "    statuses = search_results['statuses']\n",
    "    # Iterate through batches of results by following the cursor until we\n",
    "    # reach the desired number of results, keeping in mind that OAuth users\n",
    "    # can \"only\" make 180 search queries per 15-minute interval. See\n",
    "    # https://developer.twitter.com/en/docs/basics/rate-limits\n",
    "    # for details. A reasonable number of results is ~1000, although\n",
    "    # that number of results may not exist for all queries.\n",
    "    \n",
    "    # Enforce a reasonable limit\n",
    "    # Read this https://developer.twitter.com/en/docs/tweets/timelines/guides/working-with-timelines to understand why we use \n",
    "    # max_id to populate tweets\n",
    "    max_results = min(1000, max_results)\n",
    "    \n",
    "    for _ in range(10): # 10*100 = 1000\n",
    "        try:\n",
    "            next_results = search_results['search_metadata']['next_results']\n",
    "        except KeyError as e: # No more results when next_results doesn't exist\n",
    "            break\n",
    "            \n",
    "        # Create a dictionary from next_results, which has the following form:\n",
    "        # ?max_id=313519052523986943&q=NCAA&include_entities=1\n",
    "        kwargs = dict([ kv.split('=') \n",
    "                        for kv in next_results[1:].split(\"&\") ])\n",
    "        \n",
    "        search_results = twitter_api.search.tweets(**kwargs)\n",
    "        statuses += search_results['statuses']\n",
    "        \n",
    "        if len(statuses) > max_results: \n",
    "            break\n",
    "            \n",
    "    return statuses"
   ]
  },
  {
   "cell_type": "code",
   "execution_count": 63,
   "metadata": {},
   "outputs": [],
   "source": [
    "def remove_retweets(results):\n",
    "    tweets = []\n",
    "    for i in results:\n",
    "        if i['text'] not in tweets:\n",
    "            tweets.append(i['text'])\n",
    "    return tweets"
   ]
  },
  {
   "cell_type": "markdown",
   "metadata": {},
   "source": [
    "# Basic Sentiment Analysis"
   ]
  },
  {
   "cell_type": "code",
   "execution_count": 65,
   "metadata": {},
   "outputs": [
    {
     "name": "stdout",
     "output_type": "stream",
     "text": [
      "Positive tweets for $TERA is 52.38095238095239 %\n",
      "Neutral tweets for $TERA is 28.57142857142857 %\n",
      "Negative tweets for $TERA is 0.0 %\n",
      "Positive tweets for $ARMC is 35.15625 %\n",
      "Neutral tweets for $ARMC is 42.1875 %\n",
      "Negative tweets for $ARMC is 6.25 %\n",
      "Positive tweets for $GTMM is 0.0 %\n",
      "Neutral tweets for $GTMM is 100.0 %\n",
      "Negative tweets for $GTMM is 0.0 %\n",
      "Positive tweets for $GNCP is 23.5 %\n",
      "Neutral tweets for $GNCP is 37.0 %\n",
      "Negative tweets for $GNCP is 8.0 %\n",
      "Positive tweets for $GLAE is 0.0 %\n",
      "Neutral tweets for $GLAE is 60.0 %\n",
      "Negative tweets for $GLAE is 0.0 %\n",
      "Positive tweets for $CRAY is 38.46153846153847 %\n",
      "Neutral tweets for $CRAY is 45.64102564102564 %\n",
      "Negative tweets for $CRAY is 4.615384615384616 %\n",
      "Positive tweets for $GPRO is 38.70967741935484 %\n",
      "Neutral tweets for $GPRO is 49.193548387096776 %\n",
      "Negative tweets for $GPRO is 9.67741935483871 %\n",
      "Positive tweets for $SWCH is 24.324324324324326 %\n",
      "Neutral tweets for $SWCH is 63.51351351351351 %\n",
      "Negative tweets for $SWCH is 9.45945945945946 %\n",
      "Positive tweets for $SCKT is 25.0 %\n",
      "Neutral tweets for $SCKT is 58.333333333333336 %\n",
      "Negative tweets for $SCKT is 8.333333333333332 %\n"
     ]
    }
   ],
   "source": [
    "twitter_api = oauth_login()\n",
    "stock_names = ['$TERA', '$ARMC', '$GTMM', '$GNCP', '$GLAE', '$CRAY', '$GPRO', '$SWCH', '$SCKT']\n",
    "for stock in stock_names:\n",
    "    q = stock\n",
    "    results = twitter_search(twitter_api, q, max_results=100)\n",
    "    positive = 0\n",
    "    negative = 0\n",
    "    neutral = 0\n",
    "    tweets = remove_retweets(results)\n",
    "    for tweet in tweets:\n",
    "        sentiment = get_tweet_sentiment(tweet)\n",
    "        if sentiment == 'positive':\n",
    "            positive += 1\n",
    "        elif sentiment == 'negative':\n",
    "            negative += 1\n",
    "        else:\n",
    "            neutral += 1\n",
    "    print('Positive tweets for {} is {} %'.format(stock, (positive/len(results))*100))\n",
    "    print('Neutral tweets for {} is {} %'.format(stock, (neutral/len(results))*100))\n",
    "    print('Negative tweets for {} is {} %'.format(stock, (negative/len(results))*100))"
   ]
  },
  {
   "cell_type": "markdown",
   "metadata": {},
   "source": [
    "# Tweets Per Hour"
   ]
  },
  {
   "cell_type": "code",
   "execution_count": null,
   "metadata": {},
   "outputs": [],
   "source": [
    "twitter_api = oauth_login()\n",
    "stock_names = ['$TERA', '$ARMC', '$GTMM', '$GNCP', '$GLAE', '$CRAY', '$GPRO', '$SWCH', '$SCKT']\n",
    "for stock in stock_names:\n",
    "    q = stock\n",
    "    results = twitter_search(twitter_api, q, max_results=100)"
   ]
  }
 ],
 "metadata": {
  "kernelspec": {
   "display_name": "Python 3",
   "language": "python",
   "name": "python3"
  },
  "language_info": {
   "codemirror_mode": {
    "name": "ipython",
    "version": 3
   },
   "file_extension": ".py",
   "mimetype": "text/x-python",
   "name": "python",
   "nbconvert_exporter": "python",
   "pygments_lexer": "ipython3",
   "version": "3.6.8"
  }
 },
 "nbformat": 4,
 "nbformat_minor": 2
}
